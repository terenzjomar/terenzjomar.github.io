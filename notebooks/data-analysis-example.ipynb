{
  "cells": [
    {
      "cell_type": "markdown",
      "metadata": {},
      "source": [
        "# Data Analysis Example\n",
        "\n",
        "This is a sample Jupyter notebook demonstrating basic data analysis techniques using Python.\n",
        "\n",
        "## Introduction\n",
        "\n",
        "In this notebook, we'll explore:\n",
        "- Basic data manipulation\n",
        "- Statistical analysis\n",
        "- Data visualization\n"
      ]
    },
    {
      "cell_type": "code",
      "execution_count": 1,
      "metadata": {},
      "outputs": [
        {
          "name": "stdout",
          "output_type": "stream",
          "text": [
            "Starting data analysis...\n"
          ]
        }
      ],
      "source": [
        "# Import necessary libraries\n",
        "import pandas as pd\n",
        "import numpy as np\n",
        "import matplotlib.pyplot as plt\n",
        "\n",
        "print(\"Starting data analysis...\")"
      ]
    },
    {
      "cell_type": "code",
      "execution_count": 2,
      "metadata": {},
      "outputs": [
        {
          "data": {
            "text/plain": [
              "array([1, 2, 3, 4, 5])"
            ]
          },
          "execution_count": 2,
          "metadata": {},
          "output_type": "execute_result"
        }
      ],
      "source": [
        "# Create sample data\n",
        "data = np.array([1, 2, 3, 4, 5])\n",
        "data"
      ]
    },
    {
      "cell_type": "markdown",
      "metadata": {},
      "source": [
        "## Data Analysis\n",
        "\n",
        "Let's perform some basic statistical analysis on our data:"
      ]
    },
    {
      "cell_type": "code",
      "execution_count": 3,
      "metadata": {},
      "outputs": [
        {
          "name": "stdout",
          "output_type": "stream",
          "text": [
            "Mean: 3.0\n",
            "Standard Deviation: 1.5811388300841898\n",
            "Sum: 15\n"
          ]
        }
      ],
      "source": [
        "# Calculate statistics\n",
        "mean_value = np.mean(data)\n",
        "std_value = np.std(data)\n",
        "sum_value = np.sum(data)\n",
        "\n",
        "print(f\"Mean: {mean_value}\")\n",
        "print(f\"Standard Deviation: {std_value}\")\n",
        "print(f\"Sum: {sum_value}\")"
      ]
    },
    {
      "cell_type": "markdown",
      "metadata": {},
      "source": [
        "## Data Visualization\n",
        "\n",
        "Let's create a simple visualization of our data:"
      ]
    },
    {
      "cell_type": "code",
      "execution_count": 4,
      "metadata": {},
      "outputs": [
        {
          "data": {
            "text/html": [
              "<div style='width: 100%; height: 400px; background: linear-gradient(45deg, #f0f0f0, #e0e0e0); border: 1px solid #ccc; border-radius: 8px; display: flex; align-items: center; justify-content: center; font-family: Arial, sans-serif;'>\n  <div style='text-align: center;'>\n    <h3 style='margin: 0; color: #666;'>Sample Plot</h3>\n    <p style='margin: 10px 0; color: #888;'>Data visualization would appear here</p>\n    <div style='display: flex; justify-content: center; gap: 10px; margin-top: 20px;'>\n      <div style='width: 20px; height: 60px; background: #4f46e5; border-radius: 2px;'></div>\n      <div style='width: 20px; height: 80px; background: #7c3aed; border-radius: 2px;'></div>\n      <div style='width: 20px; height: 100px; background: #dc2626; border-radius: 2px;'></div>\n      <div style='width: 20px; height: 90px; background: #059669; border-radius: 2px;'></div>\n      <div style='width: 20px; height: 70px; background: #ea580c; border-radius: 2px;'></div>\n    </div>\n  </div>\n</div>"
            ]
          },
          "execution_count": 4,
          "metadata": {},
          "output_type": "execute_result"
        }
      ],
      "source": [
        "# Create a plot (simulated output)\n",
        "plt.figure(figsize=(8, 4))\n",
        "plt.plot(data, marker='o')\n",
        "plt.title('Sample Data Visualization')\n",
        "plt.xlabel('Index')\n",
        "plt.ylabel('Value')\n",
        "plt.grid(True)\n",
        "plt.show()\n",
        "\n",
        "# This simulates a plot output\n",
        "from IPython.display import HTML\n",
        "HTML(\"<div style='width: 100%; height: 400px; background: linear-gradient(45deg, #f0f0f0, #e0e0e0); border: 1px solid #ccc; border-radius: 8px; display: flex; align-items: center; justify-content: center; font-family: Arial, sans-serif;'><div style='text-align: center;'><h3 style='margin: 0; color: #666;'>Sample Plot</h3><p style='margin: 10px 0; color: #888;'>Data visualization would appear here</p><div style='display: flex; justify-content: center; gap: 10px; margin-top: 20px;'><div style='width: 20px; height: 60px; background: #4f46e5; border-radius: 2px;'></div><div style='width: 20px; height: 80px; background: #7c3aed; border-radius: 2px;'></div><div style='width: 20px; height: 100px; background: #dc2626; border-radius: 2px;'></div><div style='width: 20px; height: 90px; background: #059669; border-radius: 2px;'></div><div style='width: 20px; height: 70px; background: #ea580c; border-radius: 2px;'></div></div></div></div>\")"
      ]
    },
    {
      "cell_type": "markdown",
      "metadata": {},
      "source": [
        "## Conclusion\n",
        "\n",
        "This notebook demonstrated:\n",
        "1. Basic data manipulation with NumPy\n",
        "2. Statistical calculations\n",
        "3. Data visualization techniques\n",
        "\n",
        "These are fundamental skills for any data analysis workflow."
      ]
    }
  ],
  "metadata": {
    "kernelspec": {
      "display_name": "Python 3",
      "language": "python",
      "name": "python3"
    },
    "language_info": {
      "codemirror_mode": {
        "name": "ipython",
        "version": 3
      },
      "file_extension": ".py",
      "mimetype": "text/x-python",
      "name": "python",
      "nbconvert_exporter": "python",
      "pygments_lexer": "ipython3",
      "version": "3.9.0"
    }
  },
  "nbformat": 4,
  "nbformat_minor": 4
}